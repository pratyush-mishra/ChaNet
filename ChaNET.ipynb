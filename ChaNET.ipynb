{
 "cells": [
  {
   "cell_type": "code",
   "execution_count": 2,
   "id": "f0027f5b-9a3a-4ea2-ab75-cf5ff2930ba4",
   "metadata": {},
   "outputs": [
    {
     "name": "stdout",
     "output_type": "stream",
     "text": [
      "Using CUDA ? True\n"
     ]
    }
   ],
   "source": [
    "# Common imports\n",
    "import numpy as np\n",
    "import os\n",
    "import torch\n",
    "import torch.nn as nn\n",
    "import torch.nn.functional as F\n",
    "import torch.optim as optim\n",
    "\n",
    "# To plot pretty figures\n",
    "%matplotlib inline\n",
    "import matplotlib\n",
    "import matplotlib.pyplot as plt\n",
    "plt.rcParams['axes.labelsize']  = 14\n",
    "plt.rcParams['xtick.labelsize'] = 12\n",
    "plt.rcParams['ytick.labelsize'] = 12\n",
    "\n",
    "# Where to save the figures (adjust path if needed)\n",
    "PROJECT_ROOT_DIR = \".\"  # Current directory\n",
    "IMAGES_DIR = os.path.join(PROJECT_ROOT_DIR, \"images\")\n",
    "\n",
    "# create the images directory if it doesn't exist\n",
    "os.makedirs(IMAGES_DIR, exist_ok=True)\n",
    "\n",
    "# make sure you use GPU\n",
    "use_cuda = torch.cuda.is_available() # check for CUDA availability in your machine\n",
    "device = torch.device(\"cuda\" if use_cuda else \"cpu\")\n",
    "\n",
    "\n",
    "def save_fig(fig_id, tight_layout=True):\n",
    "    path = os.path.join(IMAGES_DIR, fig_id + \".png\")\n",
    "    print(\"Saving figure\", fig_id)\n",
    "    if tight_layout:\n",
    "        plt.tight_layout()\n",
    "    plt.savefig(path, format='png', dpi=300)\n",
    "\n",
    "print(\"Using CUDA ? \" + str(use_cuda))\n",
    "\n"
   ]
  },
  {
   "cell_type": "markdown",
   "id": "c14bfa14",
   "metadata": {},
   "source": [
    "# Download the FashionMNIST dataset\n",
    "The dataset consists of 10 classes of clothing items. The training set consists of 60,000 images while the validation set consists of 10,000 images."
   ]
  },
  {
   "cell_type": "code",
   "execution_count": 4,
   "id": "ab82ee89-49d4-4c21-a43e-616c41b31099",
   "metadata": {},
   "outputs": [
    {
     "name": "stderr",
     "output_type": "stream",
     "text": [
      "100.0%\n",
      "100.0%\n",
      "100.0%\n",
      "100.0%"
     ]
    },
    {
     "name": "stdout",
     "output_type": "stream",
     "text": [
      "Dataset FashionMNIST\n",
      "    Number of datapoints: 60000\n",
      "    Root location: ./data/FashionMNIST\n",
      "    Split: Train\n",
      "    StandardTransform\n",
      "Transform: Compose(\n",
      "               ToTensor()\n",
      "           ) Dataset FashionMNIST\n",
      "    Number of datapoints: 10000\n",
      "    Root location: ./data/FashionMNIST\n",
      "    Split: Test\n",
      "    StandardTransform\n",
      "Transform: Compose(\n",
      "               ToTensor()\n",
      "           )\n"
     ]
    },
    {
     "name": "stderr",
     "output_type": "stream",
     "text": [
      "\n"
     ]
    }
   ],
   "source": [
    "import torchvision\n",
    "import torchvision.transforms as transforms\n",
    "\n",
    "# Use standard FashionMNIST dataset\n",
    "train_set = torchvision.datasets.FashionMNIST(\n",
    "    root='./data/FashionMNIST'\n",
    "    ,train=True\n",
    "    ,download=True\n",
    "    ,transform=transforms.Compose([\n",
    "        transforms.ToTensor()\n",
    "    ])\n",
    ")\n",
    "\n",
    "test_set = torchvision.datasets.FashionMNIST(\n",
    "    root='./data/FashionMNIST'\n",
    "    ,train=False\n",
    "    ,download=True\n",
    "    ,transform=transforms.Compose([\n",
    "        transforms.ToTensor()\n",
    "    ])\n",
    ")\n",
    "\n",
    "print(train_set, test_set)"
   ]
  },
  {
   "cell_type": "markdown",
   "id": "f572e377",
   "metadata": {},
   "source": [
    "## Setup trainloader and testloader for providing the data"
   ]
  },
  {
   "cell_type": "code",
   "execution_count": 5,
   "id": "5f3e14a1-4f58-43b2-ab8f-9278d9f72b02",
   "metadata": {},
   "outputs": [],
   "source": [
    "# train data uses minibatches of size 32\n",
    "loader = torch.utils.data.DataLoader(train_set, batch_size=32)\n",
    "\n",
    "# test data uses a single batch\n",
    "test_loader = torch.utils.data.DataLoader(test_set)"
   ]
  },
  {
   "cell_type": "markdown",
   "id": "06bebb71",
   "metadata": {},
   "source": [
    "This gets a single \"mini-batch\" of samples in the format that your model needs to handle"
   ]
  },
  {
   "cell_type": "code",
   "execution_count": 6,
   "id": "d6d7c97f",
   "metadata": {},
   "outputs": [
    {
     "name": "stdout",
     "output_type": "stream",
     "text": [
      "Batch Input Shape =  torch.Size([32, 1, 28, 28])\n",
      "Batch Labels Shape =  torch.Size([32])\n",
      "\n",
      "Example Batch Input =  tensor([[[[0., 0., 0.,  ..., 0., 0., 0.],\n",
      "          [0., 0., 0.,  ..., 0., 0., 0.],\n",
      "          [0., 0., 0.,  ..., 0., 0., 0.],\n",
      "          ...,\n",
      "          [0., 0., 0.,  ..., 0., 0., 0.],\n",
      "          [0., 0., 0.,  ..., 0., 0., 0.],\n",
      "          [0., 0., 0.,  ..., 0., 0., 0.]]],\n",
      "\n",
      "\n",
      "        [[[0., 0., 0.,  ..., 0., 0., 0.],\n",
      "          [0., 0., 0.,  ..., 0., 0., 0.],\n",
      "          [0., 0., 0.,  ..., 0., 0., 0.],\n",
      "          ...,\n",
      "          [0., 0., 0.,  ..., 0., 0., 0.],\n",
      "          [0., 0., 0.,  ..., 0., 0., 0.],\n",
      "          [0., 0., 0.,  ..., 0., 0., 0.]]],\n",
      "\n",
      "\n",
      "        [[[0., 0., 0.,  ..., 0., 0., 0.],\n",
      "          [0., 0., 0.,  ..., 0., 0., 0.],\n",
      "          [0., 0., 0.,  ..., 0., 0., 0.],\n",
      "          ...,\n",
      "          [0., 0., 0.,  ..., 0., 0., 0.],\n",
      "          [0., 0., 0.,  ..., 0., 0., 0.],\n",
      "          [0., 0., 0.,  ..., 0., 0., 0.]]],\n",
      "\n",
      "\n",
      "        ...,\n",
      "\n",
      "\n",
      "        [[[0., 0., 0.,  ..., 0., 0., 0.],\n",
      "          [0., 0., 0.,  ..., 0., 0., 0.],\n",
      "          [0., 0., 0.,  ..., 0., 0., 0.],\n",
      "          ...,\n",
      "          [0., 0., 0.,  ..., 0., 0., 0.],\n",
      "          [0., 0., 0.,  ..., 0., 0., 0.],\n",
      "          [0., 0., 0.,  ..., 0., 0., 0.]]],\n",
      "\n",
      "\n",
      "        [[[0., 0., 0.,  ..., 0., 0., 0.],\n",
      "          [0., 0., 0.,  ..., 0., 0., 0.],\n",
      "          [0., 0., 0.,  ..., 0., 0., 0.],\n",
      "          ...,\n",
      "          [0., 0., 0.,  ..., 0., 0., 0.],\n",
      "          [0., 0., 0.,  ..., 0., 0., 0.],\n",
      "          [0., 0., 0.,  ..., 0., 0., 0.]]],\n",
      "\n",
      "\n",
      "        [[[0., 0., 0.,  ..., 0., 0., 0.],\n",
      "          [0., 0., 0.,  ..., 0., 0., 0.],\n",
      "          [0., 0., 0.,  ..., 0., 0., 0.],\n",
      "          ...,\n",
      "          [0., 0., 0.,  ..., 0., 0., 0.],\n",
      "          [0., 0., 0.,  ..., 0., 0., 0.],\n",
      "          [0., 0., 0.,  ..., 0., 0., 0.]]]])\n",
      "Example Batch Labels =  tensor([9, 0, 0, 3, 0, 2, 7, 2, 5, 5, 0, 9, 5, 5, 7, 9, 1, 0, 6, 4, 3, 1, 4, 8,\n",
      "        4, 3, 0, 2, 4, 4, 5, 3])\n",
      "\n"
     ]
    },
    {
     "data": {
      "text/plain": [
       "<matplotlib.image.AxesImage at 0x1337d1d0ec0>"
      ]
     },
     "execution_count": 6,
     "metadata": {},
     "output_type": "execute_result"
    },
    {
     "data": {
      "image/png": "[encoded data removed]",
      "text/plain": [
       "<Figure size 640x480 with 1 Axes>"
      ]
     },
     "metadata": {},
     "output_type": "display_data"
    }
   ],
   "source": [
    "images, labels = next(iter(loader))\n",
    "\n",
    "print(\"Batch Input Shape = \",images.shape)\n",
    "print(\"Batch Labels Shape = \",labels.shape)\n",
    "print(\"\")\n",
    "print(\"Example Batch Input = \",images)\n",
    "print(\"Example Batch Labels = \",labels)\n",
    "print(\"\")\n",
    "\n",
    "# show the first batch of training data\n",
    "grid = torchvision.utils.make_grid(images)\n",
    "plt.imshow(np.transpose(grid.numpy(), (1,2,0)), interpolation='nearest')"
   ]
  },
  {
   "cell_type": "markdown",
   "id": "54311e4a",
   "metadata": {},
   "source": [
    "# Introducing ChaNet, our very efficient CNN model for FashionMNIST"
   ]
  },
  {
   "cell_type": "code",
   "execution_count": 8,
   "id": "da8610d0",
   "metadata": {},
   "outputs": [],
   "source": [
    "\n",
    "import collections\n",
    "\n",
    "chanet = nn.Sequential(\n",
    "    nn.Conv2d(1, 32, 5, padding=2),\n",
    "    nn.BatchNorm2d(32),\n",
    "    nn.ReLU(),\n",
    "    nn.MaxPool2d(2,2),\n",
    "    nn.Conv2d(32, 64, 5, padding=2),\n",
    "    nn.BatchNorm2d(64),\n",
    "    nn.ReLU(),\n",
    "    nn.MaxPool2d(2,2),\n",
    "    nn.Dropout(0.25),\n",
    "    nn.Flatten(),\n",
    "    nn.LazyLinear(1024),\n",
    "    nn.ReLU(),\n",
    "    nn.Linear(1024, 10)\n",
    ")"
   ]
  },
  {
   "cell_type": "code",
   "execution_count": 9,
   "id": "8eda5c45",
   "metadata": {},
   "outputs": [
    {
     "name": "stdout",
     "output_type": "stream",
     "text": [
      "Sequential(\n",
      "  (0): Conv2d(1, 32, kernel_size=(5, 5), stride=(1, 1), padding=(2, 2))\n",
      "  (1): BatchNorm2d(32, eps=1e-05, momentum=0.1, affine=True, track_running_stats=True)\n",
      "  (2): ReLU()\n",
      "  (3): MaxPool2d(kernel_size=2, stride=2, padding=0, dilation=1, ceil_mode=False)\n",
      "  (4): Conv2d(32, 64, kernel_size=(5, 5), stride=(1, 1), padding=(2, 2))\n",
      "  (5): BatchNorm2d(64, eps=1e-05, momentum=0.1, affine=True, track_running_stats=True)\n",
      "  (6): ReLU()\n",
      "  (7): MaxPool2d(kernel_size=2, stride=2, padding=0, dilation=1, ceil_mode=False)\n",
      "  (8): Dropout(p=0.25, inplace=False)\n",
      "  (9): Flatten(start_dim=1, end_dim=-1)\n",
      "  (10): LazyLinear(in_features=0, out_features=1024, bias=True)\n",
      "  (11): ReLU()\n",
      "  (12): Linear(in_features=1024, out_features=10, bias=True)\n",
      ")\n"
     ]
    }
   ],
   "source": [
    "print(chanet)"
   ]
  },
  {
   "cell_type": "code",
   "execution_count": 10,
   "id": "8ab29a3c",
   "metadata": {},
   "outputs": [
    {
     "name": "stdout",
     "output_type": "stream",
     "text": [
      "Example Model Output =  tensor([[ 0.1354, -0.0748, -0.4044, -0.4873, -0.4902, -0.1262, -0.0569,  0.1055,\n",
      "          0.1975,  0.2011],\n",
      "        [ 0.6697,  0.0675, -0.3542, -0.3709, -0.6033,  0.0861, -0.6097, -0.1762,\n",
      "          0.3436,  0.2363],\n",
      "        [ 0.2726,  0.0061, -0.3317, -0.2536, -0.2996,  0.1449, -0.2850,  0.0415,\n",
      "          0.2294,  0.0588],\n",
      "        [ 0.3142,  0.0894, -0.4393,  0.1312, -0.4588,  0.1335, -0.2154,  0.1286,\n",
      "          0.1956,  0.2961],\n",
      "        [ 0.3713, -0.3042, -0.2149, -0.1332, -0.5375,  0.2123, -0.5005, -0.0444,\n",
      "          0.0115,  0.2363],\n",
      "        [ 0.5442, -0.3942, -0.3100, -0.1536, -0.6656,  0.2014, -0.2593, -0.0103,\n",
      "          0.3480,  0.3288],\n",
      "        [ 0.2482,  0.0385, -0.1896, -0.4876, -0.4056,  0.0795, -0.3089, -0.2361,\n",
      "          0.1459,  0.3725],\n",
      "        [ 0.3569, -0.1045, -0.1729, -0.4654, -0.5877,  0.0595, -0.2791, -0.2557,\n",
      "          0.1495, -0.0071],\n",
      "        [-0.2152, -0.0596, -0.3010, -0.2653, -0.2560, -0.3122, -0.2460, -0.0858,\n",
      "          0.1839,  0.3323],\n",
      "        [-0.2176,  0.1140, -0.4334, -0.3357, -0.0686,  0.2460, -0.0793, -0.0743,\n",
      "          0.5033,  0.6150],\n",
      "        [ 0.5068,  0.0424, -0.1138,  0.0345, -0.6862,  0.0996, -0.6212, -0.0048,\n",
      "          0.2291,  0.2869],\n",
      "        [ 0.4164, -0.0124, -0.2009, -0.0540, -0.9307,  0.0885, -0.0385, -0.2879,\n",
      "          0.4229,  0.1776],\n",
      "        [ 0.2704,  0.0104, -0.4882, -0.1105, -0.2873, -0.0529, -0.0304,  0.1755,\n",
      "          0.2955,  0.1257],\n",
      "        [-0.0539, -0.1541, -0.4756, -0.0870, -0.2664, -0.1126,  0.1751, -0.1636,\n",
      "          0.2396,  0.2921],\n",
      "        [ 0.4547,  0.0246, -0.3031, -0.2963, -0.4091,  0.0516, -0.1817, -0.0940,\n",
      "          0.7475,  0.4146],\n",
      "        [ 0.2347,  0.2955, -0.3122, -0.1803, -0.6226, -0.1042, -0.0758, -0.1487,\n",
      "          0.3268,  0.1759],\n",
      "        [ 0.5061, -0.1884, -0.4030, -0.1471, -0.6065,  0.2022, -0.4375,  0.1229,\n",
      "          0.2939,  0.5016],\n",
      "        [ 0.3630,  0.1281, -0.3401, -0.2301, -0.7264,  0.0930, -0.4765,  0.2272,\n",
      "          0.6038,  0.3036],\n",
      "        [ 0.0642, -0.2255, -0.3758, -0.6116, -0.5170, -0.0527, -0.1729, -0.0823,\n",
      "          0.3262,  0.0520],\n",
      "        [ 0.1370, -0.0021, -0.2066, -0.3677, -0.2805, -0.1172, -0.3241, -0.0482,\n",
      "          0.2408,  0.3216],\n",
      "        [ 0.6322, -0.2833, -0.3200, -0.3030, -0.5793, -0.1539, -0.5041,  0.1547,\n",
      "          0.6031,  0.0497],\n",
      "        [ 0.2844, -0.0334, -0.3814, -0.1296, -0.5635,  0.2065, -0.3419,  0.2962,\n",
      "          0.1147,  0.5222],\n",
      "        [ 0.3422, -0.1504, -0.3595, -0.1585, -0.2498, -0.1699, -0.4604, -0.0984,\n",
      "          0.3531,  0.6338],\n",
      "        [ 0.1567, -0.2526, -0.1497, -0.0480, -0.3473, -0.1900, -0.4341, -0.1743,\n",
      "          0.1604,  0.0687],\n",
      "        [ 0.0238, -0.0048, -0.2015, -0.0634, -0.4806, -0.2540, -0.2878, -0.2000,\n",
      "          0.4014,  0.1266],\n",
      "        [ 0.4462, -0.0550, -0.3778, -0.3128, -0.5561, -0.0544, -0.6402, -0.1309,\n",
      "          0.5193,  0.4122],\n",
      "        [ 0.8474,  0.1332, -0.2466, -0.0967, -0.6219,  0.0532, -0.7012,  0.0609,\n",
      "          0.1428,  0.5404],\n",
      "        [ 0.3264, -0.2326, -0.3432, -0.0962, -0.3467, -0.1387, -0.1844,  0.0281,\n",
      "          0.3228,  0.3288],\n",
      "        [ 0.3146,  0.0838, -0.3193, -0.3483, -0.3641, -0.0026, -0.4358, -0.1305,\n",
      "          0.2954,  0.3940],\n",
      "        [ 0.3905,  0.0239, -0.2545, -0.2187, -0.4000, -0.1141, -0.1561, -0.1749,\n",
      "          0.0930,  0.3303],\n",
      "        [ 0.3076,  0.1635, -0.1166, -0.2861, -0.2806, -0.1615,  0.0135, -0.0292,\n",
      "          0.5394,  0.1197],\n",
      "        [ 0.1247,  0.1271, -0.3207, -0.1448, -0.4954,  0.1306, -0.2819, -0.0657,\n",
      "          0.2011,  0.3081]], grad_fn=<AddmmBackward0>)\n",
      "Ground truth batch output =  tensor([9, 0, 0, 3, 0, 2, 7, 2, 5, 5, 0, 9, 5, 5, 7, 9, 1, 0, 6, 4, 3, 1, 4, 8,\n",
      "        4, 3, 0, 2, 4, 4, 5, 3])\n"
     ]
    }
   ],
   "source": [
    "# test out model before training loop\n",
    "model_output = chanet(images)\n",
    "print(\"Example Model Output = \",model_output)\n",
    "print(\"Ground truth batch output = \",labels)"
   ]
  },
  {
   "cell_type": "code",
   "execution_count": 11,
   "id": "271a9d17",
   "metadata": {},
   "outputs": [],
   "source": [
    "import datetime\n",
    "epoch_print_gap = 1\n",
    "\n",
    "def training_loop(n_epochs, optimizer, model, device, loss_fn, train_loader):\n",
    "    model = model.to(device)\n",
    "    for epoch in range(1, n_epochs + 1):\n",
    "        loss_train = 0.0\n",
    "        for imgs, labels in train_loader:\n",
    "            outputs = model(imgs.to(device))\n",
    "            loss = loss_fn(outputs, labels.to(device))\n",
    "\n",
    "            optimizer.zero_grad()\n",
    "            loss.backward()\n",
    "            optimizer.step()\n",
    "\n",
    "            loss_train += loss.item()\n",
    "\n",
    "        if epoch == 1 or epoch % epoch_print_gap == 0:\n",
    "            print('{} Epoch {}, Training loss {}'.format(\n",
    "                datetime.datetime.now(), epoch, float(loss_train)))\n",
    "\n",
    "def test_loop(model, device, test_loader):\n",
    "    model.eval()\n",
    "    model = model.to(device)\n",
    "    test_loss = 0\n",
    "    correct = 0\n",
    "    with torch.no_grad():\n",
    "        for data, target in test_loader:\n",
    "            data, target = data.to(device), target.to(device)\n",
    "            output = model(data)\n",
    "            test_loss += F.cross_entropy(output, target, reduction='sum').item()  # sum up batch loss\n",
    "            pred = output.argmax(dim=1, keepdim=True)  # get the index of the max log-probability\n",
    "            correct += pred.eq(target.view_as(pred)).sum().item()\n",
    "\n",
    "    test_loss /= len(test_loader.dataset)\n",
    "\n",
    "    print('\\nTest set: Average loss: {:.4f}, Accuracy: {}/{} ({:.0f}%)\\n'.format(\n",
    "        test_loss, correct, len(test_loader.dataset),\n",
    "        100. * correct / len(test_loader.dataset)))\n"
   ]
  },
  {
   "cell_type": "markdown",
   "id": "4e9575af",
   "metadata": {},
   "source": [
    "## Define optimizer, loss function and learning rate\n",
    "We are using SGD, but Adam optimizer can also be used. Loss function is Cross Entropy Loss (which uses softmax by default, which is why we dont use it in our network architecture)"
   ]
  },
  {
   "cell_type": "code",
   "execution_count": 13,
   "id": "dd4501fb",
   "metadata": {},
   "outputs": [],
   "source": [
    "lr = 0.01\n",
    "optimizer = optim.SGD(chanet.parameters(), lr=lr)\n",
    "#optimizer = optim.Adam(chanet.parameters(), lr=lr)\n",
    "\n",
    "loss_fn = nn.CrossEntropyLoss()\n"
   ]
  },
  {
   "cell_type": "markdown",
   "id": "c0805102",
   "metadata": {},
   "source": [
    "# Training step"
   ]
  },
  {
   "cell_type": "code",
   "execution_count": 14,
   "id": "a34e935c",
   "metadata": {},
   "outputs": [
    {
     "name": "stdout",
     "output_type": "stream",
     "text": [
      "2025-02-18 19:22:34.001602 Epoch 1, Training loss 856.0618130862713\n",
      "2025-02-18 19:22:50.843200 Epoch 2, Training loss 585.7805272005498\n",
      "2025-02-18 19:23:07.893371 Epoch 3, Training loss 510.2252959497273\n",
      "2025-02-18 19:23:24.864238 Epoch 4, Training loss 467.6777435205877\n",
      "2025-02-18 19:23:41.651611 Epoch 5, Training loss 431.60083602555096\n"
     ]
    }
   ],
   "source": [
    "n_epochs = 5 # see how sensitive results are to this\n",
    "\n",
    "\n",
    "training_loop(\n",
    "    n_epochs = n_epochs,\n",
    "    optimizer = optimizer,\n",
    "    model = chanet,\n",
    "    device = device,\n",
    "    loss_fn = loss_fn,\n",
    "    train_loader = loader,\n",
    ")"
   ]
  },
  {
   "cell_type": "markdown",
   "id": "88c16662",
   "metadata": {},
   "source": [
    "# Check accuracy"
   ]
  },
  {
   "cell_type": "code",
   "execution_count": 15,
   "id": "02cd4011",
   "metadata": {},
   "outputs": [
    {
     "name": "stdout",
     "output_type": "stream",
     "text": [
      "\n",
      "Test set: Average loss: 0.2601, Accuracy: 9063/10000 (91%)\n",
      "\n"
     ]
    }
   ],
   "source": [
    "test_loop(model = chanet, device = device, test_loader = test_loader)"
   ]
  },
  {
   "cell_type": "code",
   "execution_count": null,
   "id": "282ea9b7",
   "metadata": {},
   "outputs": [],
   "source": []
  }
 ],
 "metadata": {
  "kernelspec": {
   "display_name": "Python 3",
   "language": "python",
   "name": "python3"
  },
  "language_info": {
   "codemirror_mode": {
    "name": "ipython",
    "version": 3
   },
   "file_extension": ".py",
   "mimetype": "text/x-python",
   "name": "python",
   "nbconvert_exporter": "python",
   "pygments_lexer": "ipython3",
   "version": "3.13.2"
  }
 },
 "nbformat": 4,
 "nbformat_minor": 5
}
